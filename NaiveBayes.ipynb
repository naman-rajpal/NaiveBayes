{
  "nbformat": 4,
  "nbformat_minor": 0,
  "metadata": {
    "colab": {
      "name": "NaiveBayes.ipynb",
      "provenance": []
    },
    "kernelspec": {
      "name": "python3",
      "display_name": "Python 3"
    }
  },
  "cells": [
    {
      "cell_type": "code",
      "metadata": {
        "id": "Jq1tAgyd8OQO"
      },
      "source": [
        "import numpy as np"
      ],
      "execution_count": 1,
      "outputs": []
    },
    {
      "cell_type": "code",
      "metadata": {
        "id": "5FKysd_aEfde"
      },
      "source": [
        "from sklearn import datasets\n",
        "from sklearn.model_selection import train_test_split\n",
        "import matplotlib.pyplot as plt "
      ],
      "execution_count": 2,
      "outputs": []
    },
    {
      "cell_type": "code",
      "metadata": {
        "id": "07f9zHNA7zpr"
      },
      "source": [
        "class NaiveBayes:\n",
        "    def fit(self,X,y):\n",
        "        n_samples,n_features=X.shape\n",
        "        self._classes=np.unique(y)\n",
        "        n_classes=len(self._classes)\n",
        "\n",
        "        self._mean=np.zeros((n_classes,n_features),dtype=np.float64)\n",
        "        self.var=np.zeros((n_classes,n_features),dtype=np.float64)\n",
        "        self.prior=np.zeros(n_classes,dtype=np.float64)\n",
        "\n",
        "        for c in self._classes:\n",
        "            X_c=X[c==y]\n",
        "            self._mean[c,:]=X_c.mean(axis=0)\n",
        "            self.var[c,:]=X_c.var(axis=0)\n",
        "            self.prior[c]=X_c.shape[0]/float(n_samples)\n",
        "\n",
        "    def predict(self,X):\n",
        "        Y_pred=[self._predict(x) for x in X]\n",
        "        return Y_pred\n",
        "\n",
        "    def _predict(self,x):\n",
        "        posterior = []\n",
        "        for idx,c in enumerate(self._classes):\n",
        "            prior = np.log(self.prior[idx])\n",
        "            class_conditional=np.sum(np.log(self._pdf(idx,x)))\n",
        "            posteriors=prior+class_conditional\n",
        "            posterior.append(posteriors)\n",
        "        return self._classes[np.argmax(posterior)]\n",
        "    \n",
        "    def _pdf(self,class_idx,x):\n",
        "        mean=self._mean[class_idx]\n",
        "        var=self.var[class_idx]\n",
        "        numerator=np.exp(-(x-mean)**2/(2*var))\n",
        "        demoninator=np.sqrt(2*np.pi*var)\n",
        "        return numerator/demoninator\n",
        "\n",
        "\n"
      ],
      "execution_count": 6,
      "outputs": []
    },
    {
      "cell_type": "code",
      "metadata": {
        "id": "Oju9orzzFeeB"
      },
      "source": [
        "def accuracy(y_true,y_pred):\n",
        "    accuracy=np.sum(y_true==y_pred)/len(y_true)\n",
        "    return accuracy"
      ],
      "execution_count": 4,
      "outputs": []
    },
    {
      "cell_type": "code",
      "metadata": {
        "colab": {
          "base_uri": "https://localhost:8080/"
        },
        "id": "Rf9fTWKJFuJ1",
        "outputId": "b8d53f18-0d7c-47c0-9ca9-0a10f9373b03"
      },
      "source": [
        "X,y=datasets.make_classification(n_samples=1000,n_features=10,n_classes=2,random_state=123)\n",
        "X_train,X_test,Y_train,Y_test=train_test_split(X,y,test_size=0.2,random_state=123)\n",
        "\n",
        "nb=NaiveBayes()\n",
        "nb.fit(X_train,Y_train)\n",
        "predictions=nb.predict(X_test)\n",
        "\n",
        "print(predictions)\n",
        "print(accuracy(Y_test,predictions))"
      ],
      "execution_count": 8,
      "outputs": [
        {
          "output_type": "stream",
          "text": [
            "[0, 1, 0, 0, 0, 1, 0, 1, 1, 0, 1, 0, 0, 0, 1, 1, 1, 0, 0, 0, 0, 1, 1, 0, 0, 1, 1, 1, 1, 0, 1, 0, 1, 0, 0, 0, 0, 0, 0, 0, 0, 1, 1, 1, 0, 0, 1, 1, 1, 1, 1, 1, 0, 0, 0, 1, 0, 0, 1, 1, 0, 1, 1, 1, 1, 0, 1, 0, 0, 0, 0, 1, 0, 0, 1, 0, 0, 1, 1, 0, 1, 0, 0, 1, 1, 0, 1, 0, 0, 0, 1, 0, 1, 1, 1, 1, 0, 0, 1, 1, 0, 0, 1, 1, 1, 0, 0, 0, 0, 1, 0, 1, 0, 1, 0, 0, 0, 0, 1, 0, 1, 1, 1, 0, 0, 0, 1, 0, 1, 1, 1, 1, 0, 0, 1, 1, 0, 1, 1, 1, 0, 1, 1, 0, 1, 0, 1, 0, 1, 1, 1, 0, 0, 0, 0, 1, 0, 1, 0, 0, 1, 0, 1, 0, 1, 0, 1, 1, 0, 0, 1, 0, 0, 0, 1, 1, 0, 1, 0, 0, 1, 0, 1, 1, 0, 1, 1, 1, 0, 0, 0, 0, 1, 1, 0, 0, 1, 0, 1, 0]\n",
            "0.965\n"
          ],
          "name": "stdout"
        }
      ]
    }
  ]
}